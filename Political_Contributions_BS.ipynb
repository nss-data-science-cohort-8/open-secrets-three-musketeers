{
 "cells": [
  {
   "cell_type": "markdown",
   "id": "2dbfeaac-1828-4fa8-b022-38fc9dbad560",
   "metadata": {},
   "source": [
    "# An Analysis of Political Contributions During the 2020 House of Representatives Election\r\n",
    "\r\n",
    "In this part, you will obtain as much data as you can on the campaign contributions received by each candidate. This data is avaiable through the website https://www.opensecrets.org/.\r\n",
    "\r\n",
    "### Part 1: Data Gathering\r\n",
    "1. Start by acquiring the data from Tennessee's 7th District, which is available at https://www.opensecrets.org/races/summary?cycle=2020&id=TN07&spec=N. If you click the \"Download .csv file\", you can get a csv for this district. However, we don't want to have to click this button across all districts. Instead, we'll use Python to help automate this process. Start by sending a get request to the download button URL, https://www.opensecrets.org/races/summary.csv?cycle=2020&id=TN07. Convert the result to a DataFrame.\r\n"
   ]
  },
  {
   "cell_type": "code",
   "execution_count": 3,
   "id": "fbbb5bb9-2f62-4c49-a6d0-63d79a5172ae",
   "metadata": {},
   "outputs": [],
   "source": [
    "import requests\n",
    "from bs4 import BeautifulSoup\n",
    "from IPython.core.display import HTML\n",
    "import pandas as pd\n",
    "import io\n",
    "import re"
   ]
  },
  {
   "cell_type": "code",
   "execution_count": 7,
   "id": "695f05c2-b356-4467-8127-a35e7f2106a0",
   "metadata": {},
   "outputs": [
    {
     "data": {
      "text/plain": [
       "cid,FirstLastP,Rcpts,Spent,PACs,Indivs,Cand,Other,EndCash,LgIndivs,SmIndivs,enddate,ReleaseDate,VotePercent,Result,CRPICO,State,IncCID,Incumbent,primarydate,DistIDCurr,capeye,sort,SmLgIndivsNote\n",
       "N00041873,Mark Green (R),1194960.47,935486.67,171900.0,819151.42,0.0,203909.05,287888.55,819151.42,0.0,2020-12-31 00:00:00 +0000,2021-04-01 00:00:00 +0000,69.93,W,I,Tennessee,\"\",\"\",2020-08-06 00:00:00 +0000,TN07,0,1,N\n",
       "N00045536,Kiran Sreepada (D),206644.28,207190.98,4000.0,202644.28,0.0,0.0,0.0,179129.75,23514.53,2020-12-31 00:00:00 +0000,2021-04-01 00:00:00 +0000,27.33,L,C,Tennessee,\"\",\"\",2020-08-06 00:00:00 +0000,    ,0,2,N\n",
       "N00047077,Ronald Brown (I),1750.0,0.0,0.0,1750.0,0.0,0.0,9006.0,300.0,1450.0,2020-12-31 00:00:00 +0000,2021-04-01 00:00:00 +0000,2.17,L,C,Tennessee,\"\",\"\",2020-08-06 00:00:00 +0000,    ,0,2,N\n",
       "N00046592,Scott Vieira Jr (I),655.47,1048.51,10.0,45.0,35.0,565.47,-196.52,0.0,45.0,2020-10-14 00:00:00 +0000,2021-04-01 00:00:00 +0000,0.57,L,C,Tennessee,\"\",\"\",2020-08-06 00:00:00 +0000,    ,0,2,N\n",
       "N00045535,Benjamin Estes (3),0.0,0.0,0.0,0.0,0.0,0.0,0.0,0.0,0.0,,2021-04-01 00:00:00 +0000,0.0, ,C,Tennessee,\"\",\"\",2020-08-06 00:00:00 +0000,,0,2,N"
      ]
     },
     "execution_count": 7,
     "metadata": {},
     "output_type": "execute_result"
    }
   ],
   "source": [
    "URL = 'https://www.opensecrets.org/races/summary.csv?cycle=2020&id=TN07'\n",
    "response = requests.get(URL)\n",
    "soup = BeautifulSoup(response.text, features=\"html.parser\")\n",
    "soup"
   ]
  },
  {
   "cell_type": "code",
   "execution_count": null,
   "id": "c4974bf2-0779-467f-a4ee-18306ef9bc82",
   "metadata": {},
   "outputs": [],
   "source": []
  }
 ],
 "metadata": {
  "kernelspec": {
   "display_name": "Python 3 (ipykernel)",
   "language": "python",
   "name": "python3"
  },
  "language_info": {
   "codemirror_mode": {
    "name": "ipython",
    "version": 3
   },
   "file_extension": ".py",
   "mimetype": "text/x-python",
   "name": "python",
   "nbconvert_exporter": "python",
   "pygments_lexer": "ipython3",
   "version": "3.12.3"
  }
 },
 "nbformat": 4,
 "nbformat_minor": 5
}
