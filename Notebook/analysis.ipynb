{
 "cells": [
  {
   "cell_type": "code",
   "execution_count": 53,
   "id": "954a204d-5c25-4019-a4a7-8672ba900176",
   "metadata": {},
   "outputs": [],
   "source": [
    "import pandas as pd\n",
    "import numpy as np\n"
   ]
  },
  {
   "cell_type": "code",
   "execution_count": 109,
   "id": "ba050b49-9fef-4b58-b430-c8daa85c2564",
   "metadata": {},
   "outputs": [
    {
     "name": "stdout",
     "output_type": "stream",
     "text": [
      "Winners raised more money\n"
     ]
    }
   ],
   "source": [
    "# create a dataframe from a csv file and clean the result colunm\n",
    "new = pd.read_csv(\"../Data/combined_district_data.csv\")\n",
    "new[\"Result\"] = new[\"Result\"].str.strip().replace({\"l\":\"L\", \"w\": \"W\", \"\": pd.NA})\n",
    "new = new.dropna(subset=[\"Result\"])\n",
    "# how often the candidate who raised more money win a race\n",
    "\n",
    "Total_elections = 0\n",
    "win_by_raised_money = 0\n",
    "\n",
    "for i in range(0, len(new), 2):\n",
    "    if i+1<len(new):\n",
    "        total_elections += 1\n",
    "        if \n",
    "\n",
    "To"
   ]
  },
  {
   "cell_type": "code",
   "execution_count": 113,
   "id": "c44898de-9c0d-48b4-afd9-640b50759603",
   "metadata": {},
   "outputs": [
    {
     "name": "stdout",
     "output_type": "stream",
     "text": [
      "Winner spent more money\n"
     ]
    }
   ],
   "source": [
    "spent_to_win = new.groupby([\"Result\"])[\"Spent\"].sum()\n",
    "if spent_to_win[\"W\"]> spent_to_win[\"L\"]:\n",
    "    print(\"Winner spent more money\")\n",
    "else:\n",
    "    print(\"Losers spent more money\")"
   ]
  },
  {
   "cell_type": "code",
   "execution_count": 103,
   "id": "518c72fc-c69f-4a61-b18d-0c953525d419",
   "metadata": {},
   "outputs": [
    {
     "name": "stdout",
     "output_type": "stream",
     "text": [
      "Result\n",
      "L    4.648127e+08\n",
      "W    1.173949e+09\n",
      "Name: Rcpts, dtype: float64\n"
     ]
    }
   ],
   "source": [
    "# Create DataFrame\n",
    "df = pd.DataFrame(data)\n",
    "\n",
    "# Find the maximum cash raised in each race\n",
    "df['Max_Cash'] = df.groupby('Race')['Cash'].transform('max')\n",
    "\n",
    "# Determine if the candidate with the highest cash is the winner\n",
    "df['Is_Higher_Cash_Winner'] = (df['Cash'] == df['Max_Cash']) & (df['Result'] == 'Winner')\n",
    "\n",
    "# Count total races and wins by the candidate who raised more money\n",
    "total_races = df['Race'].nunique()\n",
    "wins_by_cash = df['Is_Higher_Cash_Winner'].sum()\n",
    "\n",
    "# Calculate and print win percentage\n",
    "if total_races > 0:\n",
    "    win_percentage = (wins_by_cash / total_races) * 100\n",
    "    print(f\"The candidate who raised more money won {win_percentage:.2f}% of the time.\")\n",
    "else:\n",
    "    print(\"No races to compare.\")"
   ]
  },
  {
   "cell_type": "code",
   "execution_count": 105,
   "id": "c2ed283e-2093-4c52-95fa-65a91f7522fb",
   "metadata": {},
   "outputs": [
    {
     "name": "stdout",
     "output_type": "stream",
     "text": [
      "Winners have more raised money\n"
     ]
    }
   ],
   "source": []
  },
  {
   "cell_type": "code",
   "execution_count": null,
   "id": "26fc778b-e947-4925-a3f6-1a8415833483",
   "metadata": {},
   "outputs": [],
   "source": []
  }
 ],
 "metadata": {
  "kernelspec": {
   "display_name": "Python 3 (ipykernel)",
   "language": "python",
   "name": "python3"
  },
  "language_info": {
   "codemirror_mode": {
    "name": "ipython",
    "version": 3
   },
   "file_extension": ".py",
   "mimetype": "text/x-python",
   "name": "python",
   "nbconvert_exporter": "python",
   "pygments_lexer": "ipython3",
   "version": "3.12.4"
  }
 },
 "nbformat": 4,
 "nbformat_minor": 5
}
